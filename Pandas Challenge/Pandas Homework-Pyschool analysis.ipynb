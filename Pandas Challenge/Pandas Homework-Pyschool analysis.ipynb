{
 "cells": [
  {
   "cell_type": "code",
   "execution_count": 6,
   "metadata": {},
   "outputs": [
    {
     "data": {
      "text/html": [
       "<div>\n",
       "<style scoped>\n",
       "    .dataframe tbody tr th:only-of-type {\n",
       "        vertical-align: middle;\n",
       "    }\n",
       "\n",
       "    .dataframe tbody tr th {\n",
       "        vertical-align: top;\n",
       "    }\n",
       "\n",
       "    .dataframe thead th {\n",
       "        text-align: right;\n",
       "    }\n",
       "</style>\n",
       "<table border=\"1\" class=\"dataframe\">\n",
       "  <thead>\n",
       "    <tr style=\"text-align: right;\">\n",
       "      <th></th>\n",
       "      <th>Student ID</th>\n",
       "      <th>student_name</th>\n",
       "      <th>gender</th>\n",
       "      <th>grade</th>\n",
       "      <th>school_name</th>\n",
       "      <th>reading_score</th>\n",
       "      <th>math_score</th>\n",
       "      <th>School ID</th>\n",
       "      <th>type</th>\n",
       "      <th>size</th>\n",
       "      <th>budget</th>\n",
       "    </tr>\n",
       "  </thead>\n",
       "  <tbody>\n",
       "    <tr>\n",
       "      <th>0</th>\n",
       "      <td>0</td>\n",
       "      <td>Paul Bradley</td>\n",
       "      <td>M</td>\n",
       "      <td>9th</td>\n",
       "      <td>Huang High School</td>\n",
       "      <td>66</td>\n",
       "      <td>79</td>\n",
       "      <td>0</td>\n",
       "      <td>District</td>\n",
       "      <td>2917</td>\n",
       "      <td>1910635</td>\n",
       "    </tr>\n",
       "    <tr>\n",
       "      <th>1</th>\n",
       "      <td>1</td>\n",
       "      <td>Victor Smith</td>\n",
       "      <td>M</td>\n",
       "      <td>12th</td>\n",
       "      <td>Huang High School</td>\n",
       "      <td>94</td>\n",
       "      <td>61</td>\n",
       "      <td>0</td>\n",
       "      <td>District</td>\n",
       "      <td>2917</td>\n",
       "      <td>1910635</td>\n",
       "    </tr>\n",
       "    <tr>\n",
       "      <th>2</th>\n",
       "      <td>2</td>\n",
       "      <td>Kevin Rodriguez</td>\n",
       "      <td>M</td>\n",
       "      <td>12th</td>\n",
       "      <td>Huang High School</td>\n",
       "      <td>90</td>\n",
       "      <td>60</td>\n",
       "      <td>0</td>\n",
       "      <td>District</td>\n",
       "      <td>2917</td>\n",
       "      <td>1910635</td>\n",
       "    </tr>\n",
       "    <tr>\n",
       "      <th>3</th>\n",
       "      <td>3</td>\n",
       "      <td>Dr. Richard Scott</td>\n",
       "      <td>M</td>\n",
       "      <td>12th</td>\n",
       "      <td>Huang High School</td>\n",
       "      <td>67</td>\n",
       "      <td>58</td>\n",
       "      <td>0</td>\n",
       "      <td>District</td>\n",
       "      <td>2917</td>\n",
       "      <td>1910635</td>\n",
       "    </tr>\n",
       "    <tr>\n",
       "      <th>4</th>\n",
       "      <td>4</td>\n",
       "      <td>Bonnie Ray</td>\n",
       "      <td>F</td>\n",
       "      <td>9th</td>\n",
       "      <td>Huang High School</td>\n",
       "      <td>97</td>\n",
       "      <td>84</td>\n",
       "      <td>0</td>\n",
       "      <td>District</td>\n",
       "      <td>2917</td>\n",
       "      <td>1910635</td>\n",
       "    </tr>\n",
       "  </tbody>\n",
       "</table>\n",
       "</div>"
      ],
      "text/plain": [
       "   Student ID       student_name gender grade        school_name  \\\n",
       "0           0       Paul Bradley      M   9th  Huang High School   \n",
       "1           1       Victor Smith      M  12th  Huang High School   \n",
       "2           2    Kevin Rodriguez      M  12th  Huang High School   \n",
       "3           3  Dr. Richard Scott      M  12th  Huang High School   \n",
       "4           4         Bonnie Ray      F   9th  Huang High School   \n",
       "\n",
       "   reading_score  math_score  School ID      type  size   budget  \n",
       "0             66          79          0  District  2917  1910635  \n",
       "1             94          61          0  District  2917  1910635  \n",
       "2             90          60          0  District  2917  1910635  \n",
       "3             67          58          0  District  2917  1910635  \n",
       "4             97          84          0  District  2917  1910635  "
      ]
     },
     "execution_count": 6,
     "metadata": {},
     "output_type": "execute_result"
    }
   ],
   "source": [
    "import pandas as pd\n",
    "import csv\n",
    "\n",
    "schoolfile=\"../Resources/schools_complete.csv\"\n",
    "SF_df=pd.read_csv(schoolfile)\n",
    "\n",
    "studentfile=\"../Resources/students_complete.csv\"\n",
    "StF_df=pd.read_csv(studentfile)\n",
    "\n",
    "complete_data=pd.merge(StF_df, SF_df, how=\"left\", on=[\"school_name\", \"school_name\"])\n",
    "complete_data.head()"
   ]
  },
  {
   "cell_type": "code",
   "execution_count": 7,
   "metadata": {},
   "outputs": [
    {
     "data": {
      "text/plain": [
       "15"
      ]
     },
     "execution_count": 7,
     "metadata": {},
     "output_type": "execute_result"
    }
   ],
   "source": [
    "#total schools:\n",
    "total_schools=complete_data[\"school_name\"].nunique()\n",
    "total_schools"
   ]
  },
  {
   "cell_type": "code",
   "execution_count": 8,
   "metadata": {},
   "outputs": [
    {
     "data": {
      "text/plain": [
       "32715"
      ]
     },
     "execution_count": 8,
     "metadata": {},
     "output_type": "execute_result"
    }
   ],
   "source": [
    "#total students:\n",
    "total_students=complete_data[\"student_name\"].nunique()\n",
    "total_students"
   ]
  },
  {
   "cell_type": "code",
   "execution_count": 10,
   "metadata": {},
   "outputs": [
    {
     "data": {
      "text/plain": [
       "24649428"
      ]
     },
     "execution_count": 10,
     "metadata": {},
     "output_type": "execute_result"
    }
   ],
   "source": [
    "#total budget:\n",
    "total_budget=SF_df[\"budget\"].sum()\n",
    "total_budget"
   ]
  },
  {
   "cell_type": "code",
   "execution_count": 13,
   "metadata": {},
   "outputs": [
    {
     "data": {
      "text/plain": [
       "79.0"
      ]
     },
     "execution_count": 13,
     "metadata": {},
     "output_type": "execute_result"
    }
   ],
   "source": [
    "#average math:\n",
    "avg_math=round(complete_data[\"math_score\"].mean(),1)\n",
    "avg_math"
   ]
  },
  {
   "cell_type": "code",
   "execution_count": 15,
   "metadata": {},
   "outputs": [
    {
     "data": {
      "text/plain": [
       "82.0"
      ]
     },
     "execution_count": 15,
     "metadata": {},
     "output_type": "execute_result"
    }
   ],
   "source": [
    "#average reading:\n",
    "avg_reading=round(complete_data[\"reading_score\"].mean(),0)\n",
    "avg_reading"
   ]
  },
  {
   "cell_type": "code",
   "execution_count": 23,
   "metadata": {},
   "outputs": [
    {
     "data": {
      "text/plain": [
       "86.7"
      ]
     },
     "execution_count": 23,
     "metadata": {},
     "output_type": "execute_result"
    }
   ],
   "source": [
    "#passing math\n",
    "passing_math=complete_data[complete_data[\"math_score\"]>70].count()[\"student_name\"]\n",
    "mathpass_perc=round(((passing_math/total_students)*100),1)\n",
    "mathpass_perc"
   ]
  },
  {
   "cell_type": "code",
   "execution_count": 24,
   "metadata": {},
   "outputs": [
    {
     "data": {
      "text/plain": [
       "99.3"
      ]
     },
     "execution_count": 24,
     "metadata": {},
     "output_type": "execute_result"
    }
   ],
   "source": [
    "#passing reading\n",
    "passing_reading=complete_data[complete_data[\"reading_score\"]>70].count()[\"student_name\"]\n",
    "readingpass_perc=round(((passing_reading/total_students)*100),1)\n",
    "readingpass_perc"
   ]
  },
  {
   "cell_type": "code",
   "execution_count": 26,
   "metadata": {},
   "outputs": [
    {
     "data": {
      "text/plain": [
       "93.0"
      ]
     },
     "execution_count": 26,
     "metadata": {},
     "output_type": "execute_result"
    }
   ],
   "source": [
    "#overall passing\n",
    "overall_pass=(mathpass_perc + readingpass_perc)/2\n",
    "overall_pass"
   ]
  },
  {
   "cell_type": "code",
   "execution_count": 28,
   "metadata": {},
   "outputs": [
    {
     "data": {
      "text/html": [
       "<div>\n",
       "<style scoped>\n",
       "    .dataframe tbody tr th:only-of-type {\n",
       "        vertical-align: middle;\n",
       "    }\n",
       "\n",
       "    .dataframe tbody tr th {\n",
       "        vertical-align: top;\n",
       "    }\n",
       "\n",
       "    .dataframe thead th {\n",
       "        text-align: right;\n",
       "    }\n",
       "</style>\n",
       "<table border=\"1\" class=\"dataframe\">\n",
       "  <thead>\n",
       "    <tr style=\"text-align: right;\">\n",
       "      <th></th>\n",
       "      <th>Total Schools</th>\n",
       "      <th>Total Students</th>\n",
       "      <th>Total Budget</th>\n",
       "      <th>Average Math</th>\n",
       "      <th>Average Reading</th>\n",
       "      <th>Percent Passed Math</th>\n",
       "      <th>Percent Passed Reading</th>\n",
       "      <th>Overall Percent Passed</th>\n",
       "    </tr>\n",
       "  </thead>\n",
       "  <tbody>\n",
       "    <tr>\n",
       "      <th>0</th>\n",
       "      <td>15</td>\n",
       "      <td>32715</td>\n",
       "      <td>24649428</td>\n",
       "      <td>79.0</td>\n",
       "      <td>82.0</td>\n",
       "      <td>86.7</td>\n",
       "      <td>99.3</td>\n",
       "      <td>93.0</td>\n",
       "    </tr>\n",
       "  </tbody>\n",
       "</table>\n",
       "</div>"
      ],
      "text/plain": [
       "   Total Schools  Total Students  Total Budget  Average Math  Average Reading  \\\n",
       "0             15           32715      24649428          79.0             82.0   \n",
       "\n",
       "   Percent Passed Math  Percent Passed Reading  Overall Percent Passed  \n",
       "0                 86.7                    99.3                    93.0  "
      ]
     },
     "execution_count": 28,
     "metadata": {},
     "output_type": "execute_result"
    }
   ],
   "source": [
    "Summary_df=pd.DataFrame({\"Total Schools\":[total_schools],\n",
    "                        \"Total Students\":[total_students],\n",
    "                        \"Total Budget\":[total_budget],\n",
    "                        \"Average Math\":[avg_math],\n",
    "                        \"Average Reading\":[avg_reading],\n",
    "                        \"Percent Passed Math\":[mathpass_perc],\n",
    "                        \"Percent Passed Reading\":[readingpass_perc],\n",
    "                        \"Overall Percent Passed\":[overall_pass]})\n",
    "Summary_df"
   ]
  },
  {
   "cell_type": "code",
   "execution_count": 30,
   "metadata": {},
   "outputs": [
    {
     "data": {
      "text/plain": [
       "school_name\n",
       "Huang High School        District\n",
       "Figueroa High School     District\n",
       "Shelton High School       Charter\n",
       "Hernandez High School    District\n",
       "Griffin High School       Charter\n",
       "Wilson High School        Charter\n",
       "Cabrera High School       Charter\n",
       "Bailey High School       District\n",
       "Holden High School        Charter\n",
       "Pena High School          Charter\n",
       "Wright High School        Charter\n",
       "Rodriguez High School    District\n",
       "Johnson High School      District\n",
       "Ford High School         District\n",
       "Thomas High School        Charter\n",
       "Name: type, dtype: object"
      ]
     },
     "execution_count": 30,
     "metadata": {},
     "output_type": "execute_result"
    }
   ],
   "source": [
    "school_type = SF_df.set_index([\"school_name\"])[\"type\"]\n",
    "school_type"
   ]
  },
  {
   "cell_type": "code",
   "execution_count": 31,
   "metadata": {},
   "outputs": [
    {
     "data": {
      "text/plain": [
       "Bailey High School       4976\n",
       "Johnson High School      4761\n",
       "Hernandez High School    4635\n",
       "Rodriguez High School    3999\n",
       "Figueroa High School     2949\n",
       "Huang High School        2917\n",
       "Ford High School         2739\n",
       "Wilson High School       2283\n",
       "Cabrera High School      1858\n",
       "Wright High School       1800\n",
       "Shelton High School      1761\n",
       "Thomas High School       1635\n",
       "Griffin High School      1468\n",
       "Pena High School          962\n",
       "Holden High School        427\n",
       "Name: school_name, dtype: int64"
      ]
     },
     "execution_count": 31,
     "metadata": {},
     "output_type": "execute_result"
    }
   ],
   "source": [
    "#Total Students per school\n",
    "total_students_per_School=complete_data[\"school_name\"].value_counts()\n",
    "total_students_per_School"
   ]
  },
  {
   "cell_type": "code",
   "execution_count": 34,
   "metadata": {},
   "outputs": [
    {
     "data": {
      "text/plain": [
       "school_name\n",
       "Bailey High School       3124928\n",
       "Cabrera High School      1081356\n",
       "Figueroa High School     1884411\n",
       "Ford High School         1763916\n",
       "Griffin High School       917500\n",
       "Hernandez High School    3022020\n",
       "Holden High School        248087\n",
       "Huang High School        1910635\n",
       "Johnson High School      3094650\n",
       "Pena High School          585858\n",
       "Rodriguez High School    2547363\n",
       "Shelton High School      1056600\n",
       "Thomas High School       1043130\n",
       "Wilson High School       1319574\n",
       "Wright High School       1049400\n",
       "Name: budget, dtype: int64"
      ]
     },
     "execution_count": 34,
     "metadata": {},
     "output_type": "execute_result"
    }
   ],
   "source": [
    "#budget per school\n",
    "budget_per_school = SF_df.groupby([\"school_name\"]).sum()[\"budget\"]\n",
    "budget_per_school"
   ]
  },
  {
   "cell_type": "code",
   "execution_count": 35,
   "metadata": {},
   "outputs": [
    {
     "data": {
      "text/plain": [
       "Bailey High School       628.0\n",
       "Cabrera High School      582.0\n",
       "Figueroa High School     639.0\n",
       "Ford High School         644.0\n",
       "Griffin High School      625.0\n",
       "Hernandez High School    652.0\n",
       "Holden High School       581.0\n",
       "Huang High School        655.0\n",
       "Johnson High School      650.0\n",
       "Pena High School         609.0\n",
       "Rodriguez High School    637.0\n",
       "Shelton High School      600.0\n",
       "Thomas High School       638.0\n",
       "Wilson High School       578.0\n",
       "Wright High School       583.0\n",
       "dtype: float64"
      ]
     },
     "execution_count": 35,
     "metadata": {},
     "output_type": "execute_result"
    }
   ],
   "source": [
    "#budget per student\n",
    "budget_per_student = budget_per_school/total_students_per_School\n",
    "budget_per_student"
   ]
  },
  {
   "cell_type": "code",
   "execution_count": 36,
   "metadata": {},
   "outputs": [
    {
     "data": {
      "text/plain": [
       "school_name\n",
       "Bailey High School       77.0\n",
       "Cabrera High School      83.1\n",
       "Figueroa High School     76.7\n",
       "Ford High School         77.1\n",
       "Griffin High School      83.4\n",
       "Hernandez High School    77.3\n",
       "Holden High School       83.8\n",
       "Huang High School        76.6\n",
       "Johnson High School      77.1\n",
       "Pena High School         83.8\n",
       "Rodriguez High School    76.8\n",
       "Shelton High School      83.4\n",
       "Thomas High School       83.4\n",
       "Wilson High School       83.3\n",
       "Wright High School       83.7\n",
       "Name: math_score, dtype: float64"
      ]
     },
     "execution_count": 36,
     "metadata": {},
     "output_type": "execute_result"
    }
   ],
   "source": [
    "#avg math per school\n",
    "avg_math_scores = round(complete_data.groupby([\"school_name\"]).mean()[\"math_score\"],1)\n",
    "avg_math_scores"
   ]
  },
  {
   "cell_type": "code",
   "execution_count": 37,
   "metadata": {},
   "outputs": [
    {
     "data": {
      "text/plain": [
       "school_name\n",
       "Bailey High School       81.0\n",
       "Cabrera High School      84.0\n",
       "Figueroa High School     81.2\n",
       "Ford High School         80.7\n",
       "Griffin High School      83.8\n",
       "Hernandez High School    80.9\n",
       "Holden High School       83.8\n",
       "Huang High School        81.2\n",
       "Johnson High School      81.0\n",
       "Pena High School         84.0\n",
       "Rodriguez High School    80.7\n",
       "Shelton High School      83.7\n",
       "Thomas High School       83.8\n",
       "Wilson High School       84.0\n",
       "Wright High School       84.0\n",
       "Name: reading_score, dtype: float64"
      ]
     },
     "execution_count": 37,
     "metadata": {},
     "output_type": "execute_result"
    }
   ],
   "source": [
    "#avg reading per school\n",
    "avg_reading_scores = round(complete_data.groupby([\"school_name\"]).mean()[\"reading_score\"],1)\n",
    "avg_reading_scores"
   ]
  },
  {
   "cell_type": "code",
   "execution_count": 44,
   "metadata": {},
   "outputs": [
    {
     "data": {
      "text/plain": [
       "Bailey High School       64.6\n",
       "Cabrera High School      89.6\n",
       "Figueroa High School     63.8\n",
       "Ford High School         65.8\n",
       "Griffin High School      89.7\n",
       "Hernandez High School    64.7\n",
       "Holden High School       90.6\n",
       "Huang High School        63.3\n",
       "Johnson High School      63.9\n",
       "Pena High School         91.7\n",
       "Rodriguez High School    64.1\n",
       "Shelton High School      89.9\n",
       "Thomas High School       90.2\n",
       "Wilson High School       90.9\n",
       "Wright High School       90.3\n",
       "dtype: float64"
      ]
     },
     "execution_count": 44,
     "metadata": {},
     "output_type": "execute_result"
    }
   ],
   "source": [
    "#% passing math\n",
    "schools_pass_math = complete_data[(complete_data[\"math_score\"]>70)]\n",
    "schoolstudent_pass_math= schools_pass_math.groupby([\"school_name\"]).count()[\"student_name\"]\n",
    "perc_passmath= round((schoolstudent_pass_math/total_students_per_School)*100,1)\n",
    "perc_passmath"
   ]
  },
  {
   "cell_type": "code",
   "execution_count": 45,
   "metadata": {},
   "outputs": [
    {
     "data": {
      "text/plain": [
       "Bailey High School       79.3\n",
       "Cabrera High School      93.9\n",
       "Figueroa High School     78.4\n",
       "Ford High School         77.5\n",
       "Griffin High School      93.4\n",
       "Hernandez High School    78.2\n",
       "Holden High School       92.7\n",
       "Huang High School        78.8\n",
       "Johnson High School      78.3\n",
       "Pena High School         92.2\n",
       "Rodriguez High School    77.7\n",
       "Shelton High School      92.6\n",
       "Thomas High School       92.9\n",
       "Wilson High School       93.3\n",
       "Wright High School       93.4\n",
       "dtype: float64"
      ]
     },
     "execution_count": 45,
     "metadata": {},
     "output_type": "execute_result"
    }
   ],
   "source": [
    "#% passing reading\n",
    "schools_pass_reading = complete_data[(complete_data[\"reading_score\"]>70)]\n",
    "schoolstudent_pass_reading= schools_pass_reading.groupby([\"school_name\"]).count()[\"student_name\"]\n",
    "perc_passreading= round((schoolstudent_pass_reading/total_students_per_School)*100,1)\n",
    "perc_passreading"
   ]
  },
  {
   "cell_type": "code",
   "execution_count": 47,
   "metadata": {},
   "outputs": [
    {
     "data": {
      "text/plain": [
       "Bailey High School       71.95\n",
       "Cabrera High School      91.75\n",
       "Figueroa High School     71.10\n",
       "Ford High School         71.65\n",
       "Griffin High School      91.55\n",
       "Hernandez High School    71.45\n",
       "Holden High School       91.65\n",
       "Huang High School        71.05\n",
       "Johnson High School      71.10\n",
       "Pena High School         91.95\n",
       "Rodriguez High School    70.90\n",
       "Shelton High School      91.25\n",
       "Thomas High School       91.55\n",
       "Wilson High School       92.10\n",
       "Wright High School       91.85\n",
       "dtype: float64"
      ]
     },
     "execution_count": 47,
     "metadata": {},
     "output_type": "execute_result"
    }
   ],
   "source": [
    "#overall percent\n",
    "overall_perc=(perc_passreading + perc_passmath)/2\n",
    "overall_perc"
   ]
  },
  {
   "cell_type": "code",
   "execution_count": 58,
   "metadata": {},
   "outputs": [
    {
     "data": {
      "text/html": [
       "<div>\n",
       "<style scoped>\n",
       "    .dataframe tbody tr th:only-of-type {\n",
       "        vertical-align: middle;\n",
       "    }\n",
       "\n",
       "    .dataframe tbody tr th {\n",
       "        vertical-align: top;\n",
       "    }\n",
       "\n",
       "    .dataframe thead th {\n",
       "        text-align: right;\n",
       "    }\n",
       "</style>\n",
       "<table border=\"1\" class=\"dataframe\">\n",
       "  <thead>\n",
       "    <tr style=\"text-align: right;\">\n",
       "      <th></th>\n",
       "      <th>School Type</th>\n",
       "      <th>Total Students</th>\n",
       "      <th>Total School Budget</th>\n",
       "      <th>Budget per student</th>\n",
       "      <th>Average Math Score per School</th>\n",
       "      <th>Average Reading Score per School</th>\n",
       "      <th>% Passing Math per School</th>\n",
       "      <th>% Passing Reading per School</th>\n",
       "      <th>Overall Passing rate</th>\n",
       "    </tr>\n",
       "  </thead>\n",
       "  <tbody>\n",
       "    <tr>\n",
       "      <th>0</th>\n",
       "      <td>school_name\n",
       "Huang High School        District\n",
       "...</td>\n",
       "      <td>Bailey High School       4976\n",
       "Johnson High Sch...</td>\n",
       "      <td>school_name\n",
       "Bailey High School       3124928\n",
       "C...</td>\n",
       "      <td>Bailey High School       628.0\n",
       "Cabrera High Sc...</td>\n",
       "      <td>school_name\n",
       "Bailey High School       77.0\n",
       "Cabr...</td>\n",
       "      <td>school_name\n",
       "Bailey High School       81.0\n",
       "Cabr...</td>\n",
       "      <td>Bailey High School       64.6\n",
       "Cabrera High Sch...</td>\n",
       "      <td>Bailey High School       79.3\n",
       "Cabrera High Sch...</td>\n",
       "      <td>Bailey High School       71.95\n",
       "Cabrera High Sc...</td>\n",
       "    </tr>\n",
       "  </tbody>\n",
       "</table>\n",
       "</div>"
      ],
      "text/plain": [
       "                                         School Type  \\\n",
       "0  school_name\n",
       "Huang High School        District\n",
       "...   \n",
       "\n",
       "                                      Total Students  \\\n",
       "0  Bailey High School       4976\n",
       "Johnson High Sch...   \n",
       "\n",
       "                                 Total School Budget  \\\n",
       "0  school_name\n",
       "Bailey High School       3124928\n",
       "C...   \n",
       "\n",
       "                                  Budget per student  \\\n",
       "0  Bailey High School       628.0\n",
       "Cabrera High Sc...   \n",
       "\n",
       "                       Average Math Score per School  \\\n",
       "0  school_name\n",
       "Bailey High School       77.0\n",
       "Cabr...   \n",
       "\n",
       "                    Average Reading Score per School  \\\n",
       "0  school_name\n",
       "Bailey High School       81.0\n",
       "Cabr...   \n",
       "\n",
       "                           % Passing Math per School  \\\n",
       "0  Bailey High School       64.6\n",
       "Cabrera High Sch...   \n",
       "\n",
       "                        % Passing Reading per School  \\\n",
       "0  Bailey High School       79.3\n",
       "Cabrera High Sch...   \n",
       "\n",
       "                                Overall Passing rate  \n",
       "0  Bailey High School       71.95\n",
       "Cabrera High Sc...  "
      ]
     },
     "execution_count": 58,
     "metadata": {},
     "output_type": "execute_result"
    }
   ],
   "source": [
    "#school summary\n",
    "school_summary=pd.DataFrame({\"School Type\":[school_type],\n",
    "                                 \"Total Students\":[total_students_per_School],\n",
    "                                 \"Total School Budget\":[budget_per_school],\n",
    "                                  \"Budget per student\":[budget_per_student],\n",
    "                                 \"Average Math Score per School\":[avg_math_scores],\n",
    "                                 \"Average Reading Score per School\":[avg_reading_scores],\n",
    "                                 \"% Passing Math per School\":[perc_passmath],\n",
    "                                 \"% Passing Reading per School\":[perc_passreading],\n",
    "                                 \"Overall Passing rate\":[overall_perc]})\n",
    "school_summary"
   ]
  },
  {
   "cell_type": "code",
   "execution_count": 66,
   "metadata": {},
   "outputs": [
    {
     "data": {
      "text/html": [
       "<div>\n",
       "<style scoped>\n",
       "    .dataframe tbody tr th:only-of-type {\n",
       "        vertical-align: middle;\n",
       "    }\n",
       "\n",
       "    .dataframe tbody tr th {\n",
       "        vertical-align: top;\n",
       "    }\n",
       "\n",
       "    .dataframe thead th {\n",
       "        text-align: right;\n",
       "    }\n",
       "</style>\n",
       "<table border=\"1\" class=\"dataframe\">\n",
       "  <thead>\n",
       "    <tr style=\"text-align: right;\">\n",
       "      <th></th>\n",
       "      <th>School Type</th>\n",
       "      <th>Total School Budget</th>\n",
       "      <th>Budget per student</th>\n",
       "      <th>Average Math Score per School</th>\n",
       "      <th>Average Reading Score per School</th>\n",
       "      <th>% Passing Math per School</th>\n",
       "      <th>% Passing Reading per School</th>\n",
       "      <th>Overall Passing rate</th>\n",
       "    </tr>\n",
       "  </thead>\n",
       "  <tbody>\n",
       "    <tr>\n",
       "      <th>0</th>\n",
       "      <td>school_name\n",
       "Huang High School        District\n",
       "...</td>\n",
       "      <td>school_name\n",
       "Bailey High School       3124928\n",
       "C...</td>\n",
       "      <td>Bailey High School       628.0\n",
       "Cabrera High Sc...</td>\n",
       "      <td>school_name\n",
       "Bailey High School       77.0\n",
       "Cabr...</td>\n",
       "      <td>school_name\n",
       "Bailey High School       81.0\n",
       "Cabr...</td>\n",
       "      <td>Bailey High School       64.6\n",
       "Cabrera High Sch...</td>\n",
       "      <td>Bailey High School       79.3\n",
       "Cabrera High Sch...</td>\n",
       "      <td>Bailey High School       71.95\n",
       "Cabrera High Sc...</td>\n",
       "    </tr>\n",
       "  </tbody>\n",
       "</table>\n",
       "</div>"
      ],
      "text/plain": [
       "                                         School Type  \\\n",
       "0  school_name\n",
       "Huang High School        District\n",
       "...   \n",
       "\n",
       "                                 Total School Budget  \\\n",
       "0  school_name\n",
       "Bailey High School       3124928\n",
       "C...   \n",
       "\n",
       "                                  Budget per student  \\\n",
       "0  Bailey High School       628.0\n",
       "Cabrera High Sc...   \n",
       "\n",
       "                       Average Math Score per School  \\\n",
       "0  school_name\n",
       "Bailey High School       77.0\n",
       "Cabr...   \n",
       "\n",
       "                    Average Reading Score per School  \\\n",
       "0  school_name\n",
       "Bailey High School       81.0\n",
       "Cabr...   \n",
       "\n",
       "                           % Passing Math per School  \\\n",
       "0  Bailey High School       64.6\n",
       "Cabrera High Sch...   \n",
       "\n",
       "                        % Passing Reading per School  \\\n",
       "0  Bailey High School       79.3\n",
       "Cabrera High Sch...   \n",
       "\n",
       "                                Overall Passing rate  \n",
       "0  Bailey High School       71.95\n",
       "Cabrera High Sc...  "
      ]
     },
     "execution_count": 66,
     "metadata": {},
     "output_type": "execute_result"
    }
   ],
   "source": [
    "per_school_summary = school_summary[[\"School Type\", \"Total School Budget\",\"Budget per student\",\n",
    "                                         \"Average Math Score per School\", \"Average Reading Score per School\", \n",
    "                                         \"% Passing Math per School\", \"% Passing Reading per School\", \n",
    "                                         \"Overall Passing rate\"]]\n",
    "per_school_summary"
   ]
  },
  {
   "cell_type": "code",
   "execution_count": 52,
   "metadata": {},
   "outputs": [
    {
     "data": {
      "text/html": [
       "<div>\n",
       "<style scoped>\n",
       "    .dataframe tbody tr th:only-of-type {\n",
       "        vertical-align: middle;\n",
       "    }\n",
       "\n",
       "    .dataframe tbody tr th {\n",
       "        vertical-align: top;\n",
       "    }\n",
       "\n",
       "    .dataframe thead th {\n",
       "        text-align: right;\n",
       "    }\n",
       "</style>\n",
       "<table border=\"1\" class=\"dataframe\">\n",
       "  <thead>\n",
       "    <tr style=\"text-align: right;\">\n",
       "      <th></th>\n",
       "      <th>School Type</th>\n",
       "      <th>Total School Budget</th>\n",
       "      <th>Budget per student</th>\n",
       "      <th>Average Math Score Schoolwise</th>\n",
       "      <th>Average Reading Score Schoolwise</th>\n",
       "      <th>% Passing Math Schoolwise</th>\n",
       "      <th>% Passing Reading Schoolwise</th>\n",
       "      <th>Overall Passing rate</th>\n",
       "    </tr>\n",
       "  </thead>\n",
       "  <tbody>\n",
       "    <tr>\n",
       "      <th>0</th>\n",
       "      <td>school_name\n",
       "Huang High School        District\n",
       "...</td>\n",
       "      <td>school_name\n",
       "Bailey High School       3124928\n",
       "C...</td>\n",
       "      <td>Bailey High School       628.0\n",
       "Cabrera High Sc...</td>\n",
       "      <td>school_name\n",
       "Bailey High School       77.0\n",
       "Cabr...</td>\n",
       "      <td>school_name\n",
       "Bailey High School       81.0\n",
       "Cabr...</td>\n",
       "      <td>Bailey High School       64.6\n",
       "Cabrera High Sch...</td>\n",
       "      <td>Bailey High School       79.3\n",
       "Cabrera High Sch...</td>\n",
       "      <td>Bailey High School       71.95\n",
       "Cabrera High Sc...</td>\n",
       "    </tr>\n",
       "  </tbody>\n",
       "</table>\n",
       "</div>"
      ],
      "text/plain": [
       "                                         School Type  \\\n",
       "0  school_name\n",
       "Huang High School        District\n",
       "...   \n",
       "\n",
       "                                 Total School Budget  \\\n",
       "0  school_name\n",
       "Bailey High School       3124928\n",
       "C...   \n",
       "\n",
       "                                  Budget per student  \\\n",
       "0  Bailey High School       628.0\n",
       "Cabrera High Sc...   \n",
       "\n",
       "                       Average Math Score Schoolwise  \\\n",
       "0  school_name\n",
       "Bailey High School       77.0\n",
       "Cabr...   \n",
       "\n",
       "                    Average Reading Score Schoolwise  \\\n",
       "0  school_name\n",
       "Bailey High School       81.0\n",
       "Cabr...   \n",
       "\n",
       "                           % Passing Math Schoolwise  \\\n",
       "0  Bailey High School       64.6\n",
       "Cabrera High Sch...   \n",
       "\n",
       "                        % Passing Reading Schoolwise  \\\n",
       "0  Bailey High School       79.3\n",
       "Cabrera High Sch...   \n",
       "\n",
       "                                Overall Passing rate  \n",
       "0  Bailey High School       71.95\n",
       "Cabrera High Sc...  "
      ]
     },
     "execution_count": 52,
     "metadata": {},
     "output_type": "execute_result"
    }
   ],
   "source": [
    "top_School=per_school_summary.sort_values([\"Overall Passing rate\"],ascending = False).head(5)\n",
    "top_School"
   ]
  },
  {
   "cell_type": "code",
   "execution_count": 53,
   "metadata": {},
   "outputs": [
    {
     "data": {
      "text/html": [
       "<div>\n",
       "<style scoped>\n",
       "    .dataframe tbody tr th:only-of-type {\n",
       "        vertical-align: middle;\n",
       "    }\n",
       "\n",
       "    .dataframe tbody tr th {\n",
       "        vertical-align: top;\n",
       "    }\n",
       "\n",
       "    .dataframe thead th {\n",
       "        text-align: right;\n",
       "    }\n",
       "</style>\n",
       "<table border=\"1\" class=\"dataframe\">\n",
       "  <thead>\n",
       "    <tr style=\"text-align: right;\">\n",
       "      <th></th>\n",
       "      <th>School Type</th>\n",
       "      <th>Total School Budget</th>\n",
       "      <th>Budget per student</th>\n",
       "      <th>Average Math Score Schoolwise</th>\n",
       "      <th>Average Reading Score Schoolwise</th>\n",
       "      <th>% Passing Math Schoolwise</th>\n",
       "      <th>% Passing Reading Schoolwise</th>\n",
       "      <th>Overall Passing rate</th>\n",
       "    </tr>\n",
       "  </thead>\n",
       "  <tbody>\n",
       "    <tr>\n",
       "      <th>0</th>\n",
       "      <td>school_name\n",
       "Huang High School        District\n",
       "...</td>\n",
       "      <td>school_name\n",
       "Bailey High School       3124928\n",
       "C...</td>\n",
       "      <td>Bailey High School       628.0\n",
       "Cabrera High Sc...</td>\n",
       "      <td>school_name\n",
       "Bailey High School       77.0\n",
       "Cabr...</td>\n",
       "      <td>school_name\n",
       "Bailey High School       81.0\n",
       "Cabr...</td>\n",
       "      <td>Bailey High School       64.6\n",
       "Cabrera High Sch...</td>\n",
       "      <td>Bailey High School       79.3\n",
       "Cabrera High Sch...</td>\n",
       "      <td>Bailey High School       71.95\n",
       "Cabrera High Sc...</td>\n",
       "    </tr>\n",
       "  </tbody>\n",
       "</table>\n",
       "</div>"
      ],
      "text/plain": [
       "                                         School Type  \\\n",
       "0  school_name\n",
       "Huang High School        District\n",
       "...   \n",
       "\n",
       "                                 Total School Budget  \\\n",
       "0  school_name\n",
       "Bailey High School       3124928\n",
       "C...   \n",
       "\n",
       "                                  Budget per student  \\\n",
       "0  Bailey High School       628.0\n",
       "Cabrera High Sc...   \n",
       "\n",
       "                       Average Math Score Schoolwise  \\\n",
       "0  school_name\n",
       "Bailey High School       77.0\n",
       "Cabr...   \n",
       "\n",
       "                    Average Reading Score Schoolwise  \\\n",
       "0  school_name\n",
       "Bailey High School       81.0\n",
       "Cabr...   \n",
       "\n",
       "                           % Passing Math Schoolwise  \\\n",
       "0  Bailey High School       64.6\n",
       "Cabrera High Sch...   \n",
       "\n",
       "                        % Passing Reading Schoolwise  \\\n",
       "0  Bailey High School       79.3\n",
       "Cabrera High Sch...   \n",
       "\n",
       "                                Overall Passing rate  \n",
       "0  Bailey High School       71.95\n",
       "Cabrera High Sc...  "
      ]
     },
     "execution_count": 53,
     "metadata": {},
     "output_type": "execute_result"
    }
   ],
   "source": [
    "bottom_school=per_school_summary.sort_values([\"Overall Passing rate\"],ascending = False).tail(5)\n",
    "bottom_school"
   ]
  },
  {
   "cell_type": "code",
   "execution_count": 54,
   "metadata": {},
   "outputs": [
    {
     "data": {
      "text/plain": [
       "grade\n",
       "10th    78.9\n",
       "11th    79.1\n",
       "12th    79.0\n",
       "9th     78.9\n",
       "Name: math_score, dtype: float64"
      ]
     },
     "execution_count": 54,
     "metadata": {},
     "output_type": "execute_result"
    }
   ],
   "source": [
    "avg_math_scores_grade = round(complete_data.groupby([\"grade\"]).mean()[\"math_score\"],1)\n",
    "avg_math_scores_grade"
   ]
  },
  {
   "cell_type": "code",
   "execution_count": 55,
   "metadata": {},
   "outputs": [
    {
     "data": {
      "text/plain": [
       "grade\n",
       "10th    81.9\n",
       "11th    81.9\n",
       "12th    81.8\n",
       "9th     81.9\n",
       "Name: reading_score, dtype: float64"
      ]
     },
     "execution_count": 55,
     "metadata": {},
     "output_type": "execute_result"
    }
   ],
   "source": [
    "avg_reading_score_grade = round(complete_data.groupby([\"grade\"]).mean()[\"reading_score\"],1)\n",
    "avg_reading_score_grade"
   ]
  },
  {
   "cell_type": "code",
   "execution_count": 57,
   "metadata": {},
   "outputs": [
    {
     "data": {
      "text/html": [
       "<div>\n",
       "<style scoped>\n",
       "    .dataframe tbody tr th:only-of-type {\n",
       "        vertical-align: middle;\n",
       "    }\n",
       "\n",
       "    .dataframe tbody tr th {\n",
       "        vertical-align: top;\n",
       "    }\n",
       "\n",
       "    .dataframe thead th {\n",
       "        text-align: right;\n",
       "    }\n",
       "</style>\n",
       "<table border=\"1\" class=\"dataframe\">\n",
       "  <thead>\n",
       "    <tr style=\"text-align: right;\">\n",
       "      <th></th>\n",
       "      <th>School Type</th>\n",
       "      <th>Total School Budget</th>\n",
       "      <th>Budget per student</th>\n",
       "      <th>Average Math Score Schoolwise</th>\n",
       "      <th>Average Reading Score Schoolwise</th>\n",
       "      <th>% Passing Math Schoolwise</th>\n",
       "      <th>% Passing Reading Schoolwise</th>\n",
       "      <th>Overall Passing rate</th>\n",
       "      <th>Spending Ranges (Per Student)</th>\n",
       "    </tr>\n",
       "  </thead>\n",
       "  <tbody>\n",
       "    <tr>\n",
       "      <th>0</th>\n",
       "      <td>school_name\n",
       "Huang High School        District\n",
       "...</td>\n",
       "      <td>school_name\n",
       "Bailey High School       3124928\n",
       "C...</td>\n",
       "      <td>Bailey High School       628.0\n",
       "Cabrera High Sc...</td>\n",
       "      <td>school_name\n",
       "Bailey High School       77.0\n",
       "Cabr...</td>\n",
       "      <td>school_name\n",
       "Bailey High School       81.0\n",
       "Cabr...</td>\n",
       "      <td>Bailey High School       64.6\n",
       "Cabrera High Sch...</td>\n",
       "      <td>Bailey High School       79.3\n",
       "Cabrera High Sch...</td>\n",
       "      <td>Bailey High School       71.95\n",
       "Cabrera High Sc...</td>\n",
       "      <td>NaN</td>\n",
       "    </tr>\n",
       "  </tbody>\n",
       "</table>\n",
       "</div>"
      ],
      "text/plain": [
       "                                         School Type  \\\n",
       "0  school_name\n",
       "Huang High School        District\n",
       "...   \n",
       "\n",
       "                                 Total School Budget  \\\n",
       "0  school_name\n",
       "Bailey High School       3124928\n",
       "C...   \n",
       "\n",
       "                                  Budget per student  \\\n",
       "0  Bailey High School       628.0\n",
       "Cabrera High Sc...   \n",
       "\n",
       "                       Average Math Score Schoolwise  \\\n",
       "0  school_name\n",
       "Bailey High School       77.0\n",
       "Cabr...   \n",
       "\n",
       "                    Average Reading Score Schoolwise  \\\n",
       "0  school_name\n",
       "Bailey High School       81.0\n",
       "Cabr...   \n",
       "\n",
       "                           % Passing Math Schoolwise  \\\n",
       "0  Bailey High School       64.6\n",
       "Cabrera High Sch...   \n",
       "\n",
       "                        % Passing Reading Schoolwise  \\\n",
       "0  Bailey High School       79.3\n",
       "Cabrera High Sch...   \n",
       "\n",
       "                                Overall Passing rate  \\\n",
       "0  Bailey High School       71.95\n",
       "Cabrera High Sc...   \n",
       "\n",
       "  Spending Ranges (Per Student)  \n",
       "0                           NaN  "
      ]
     },
     "execution_count": 57,
     "metadata": {},
     "output_type": "execute_result"
    }
   ],
   "source": [
    "bin = [0, 585, 615, 645, 675]\n",
    "value = [\"<$585\", \"$585-615\", \"$615-645\", \"$645-675\"]\n",
    "\n",
    "per_school_summary[\"Spending Ranges (Per Student)\"] = pd.cut(budget_per_student,bin,labels = value)\n",
    "per_school_summary"
   ]
  },
  {
   "cell_type": "code",
   "execution_count": 76,
   "metadata": {},
   "outputs": [
    {
     "ename": "DataError",
     "evalue": "No numeric types to aggregate",
     "output_type": "error",
     "traceback": [
      "\u001b[1;31m---------------------------------------------------------------------------\u001b[0m",
      "\u001b[1;31mDataError\u001b[0m                                 Traceback (most recent call last)",
      "\u001b[1;32m<ipython-input-76-dd26c78cb32b>\u001b[0m in \u001b[0;36m<module>\u001b[1;34m\u001b[0m\n\u001b[0;32m     19\u001b[0m \u001b[0mper_school_summary\u001b[0m\u001b[1;33m[\u001b[0m\u001b[1;34m\"Spending Ranges (Per Student)\"\u001b[0m\u001b[1;33m]\u001b[0m \u001b[1;33m=\u001b[0m \u001b[0mpd\u001b[0m\u001b[1;33m.\u001b[0m\u001b[0mcut\u001b[0m\u001b[1;33m(\u001b[0m\u001b[0mbudget_per_student\u001b[0m\u001b[1;33m,\u001b[0m\u001b[0mbins\u001b[0m\u001b[1;33m,\u001b[0m\u001b[0mlabels\u001b[0m \u001b[1;33m=\u001b[0m \u001b[0mnames\u001b[0m\u001b[1;33m)\u001b[0m\u001b[1;33m\u001b[0m\u001b[1;33m\u001b[0m\u001b[0m\n\u001b[0;32m     20\u001b[0m \u001b[1;33m\u001b[0m\u001b[0m\n\u001b[1;32m---> 21\u001b[1;33m \u001b[0mavg_math_score_spending\u001b[0m \u001b[1;33m=\u001b[0m \u001b[0mround\u001b[0m\u001b[1;33m(\u001b[0m\u001b[0mper_school_summary\u001b[0m\u001b[1;33m.\u001b[0m\u001b[0mgroupby\u001b[0m\u001b[1;33m(\u001b[0m\u001b[0mper_school_summary\u001b[0m\u001b[1;33m[\u001b[0m\u001b[1;34m\"Spending Ranges (Per Student)\"\u001b[0m\u001b[1;33m]\u001b[0m\u001b[1;33m)\u001b[0m\u001b[1;33m.\u001b[0m\u001b[0mmean\u001b[0m\u001b[1;33m(\u001b[0m\u001b[1;33m)\u001b[0m\u001b[1;33m[\u001b[0m\u001b[1;34m\"Average Math Score per School\"\u001b[0m\u001b[1;33m]\u001b[0m\u001b[1;33m,\u001b[0m\u001b[1;36m1\u001b[0m\u001b[1;33m)\u001b[0m\u001b[1;33m\u001b[0m\u001b[1;33m\u001b[0m\u001b[0m\n\u001b[0m\u001b[0;32m     22\u001b[0m \u001b[0mavg_math_score_spending\u001b[0m\u001b[1;33m\u001b[0m\u001b[1;33m\u001b[0m\u001b[0m\n",
      "\u001b[1;32m~\\OneDrive\\Documents\\Anaconda\\lib\\site-packages\\pandas\\core\\groupby\\groupby.py\u001b[0m in \u001b[0;36mmean\u001b[1;34m(self, *args, **kwargs)\u001b[0m\n\u001b[0;32m   1130\u001b[0m         \u001b[0mnv\u001b[0m\u001b[1;33m.\u001b[0m\u001b[0mvalidate_groupby_func\u001b[0m\u001b[1;33m(\u001b[0m\u001b[1;34m'mean'\u001b[0m\u001b[1;33m,\u001b[0m \u001b[0margs\u001b[0m\u001b[1;33m,\u001b[0m \u001b[0mkwargs\u001b[0m\u001b[1;33m,\u001b[0m \u001b[1;33m[\u001b[0m\u001b[1;34m'numeric_only'\u001b[0m\u001b[1;33m]\u001b[0m\u001b[1;33m)\u001b[0m\u001b[1;33m\u001b[0m\u001b[1;33m\u001b[0m\u001b[0m\n\u001b[0;32m   1131\u001b[0m         \u001b[1;32mtry\u001b[0m\u001b[1;33m:\u001b[0m\u001b[1;33m\u001b[0m\u001b[1;33m\u001b[0m\u001b[0m\n\u001b[1;32m-> 1132\u001b[1;33m             \u001b[1;32mreturn\u001b[0m \u001b[0mself\u001b[0m\u001b[1;33m.\u001b[0m\u001b[0m_cython_agg_general\u001b[0m\u001b[1;33m(\u001b[0m\u001b[1;34m'mean'\u001b[0m\u001b[1;33m,\u001b[0m \u001b[1;33m**\u001b[0m\u001b[0mkwargs\u001b[0m\u001b[1;33m)\u001b[0m\u001b[1;33m\u001b[0m\u001b[1;33m\u001b[0m\u001b[0m\n\u001b[0m\u001b[0;32m   1133\u001b[0m         \u001b[1;32mexcept\u001b[0m \u001b[0mGroupByError\u001b[0m\u001b[1;33m:\u001b[0m\u001b[1;33m\u001b[0m\u001b[1;33m\u001b[0m\u001b[0m\n\u001b[0;32m   1134\u001b[0m             \u001b[1;32mraise\u001b[0m\u001b[1;33m\u001b[0m\u001b[1;33m\u001b[0m\u001b[0m\n",
      "\u001b[1;32m~\\OneDrive\\Documents\\Anaconda\\lib\\site-packages\\pandas\\core\\groupby\\generic.py\u001b[0m in \u001b[0;36m_cython_agg_general\u001b[1;34m(self, how, alt, numeric_only, min_count)\u001b[0m\n\u001b[0;32m     68\u001b[0m                             min_count=-1):\n\u001b[0;32m     69\u001b[0m         new_items, new_blocks = self._cython_agg_blocks(\n\u001b[1;32m---> 70\u001b[1;33m             how, alt=alt, numeric_only=numeric_only, min_count=min_count)\n\u001b[0m\u001b[0;32m     71\u001b[0m         \u001b[1;32mreturn\u001b[0m \u001b[0mself\u001b[0m\u001b[1;33m.\u001b[0m\u001b[0m_wrap_agged_blocks\u001b[0m\u001b[1;33m(\u001b[0m\u001b[0mnew_items\u001b[0m\u001b[1;33m,\u001b[0m \u001b[0mnew_blocks\u001b[0m\u001b[1;33m)\u001b[0m\u001b[1;33m\u001b[0m\u001b[1;33m\u001b[0m\u001b[0m\n\u001b[0;32m     72\u001b[0m \u001b[1;33m\u001b[0m\u001b[0m\n",
      "\u001b[1;32m~\\OneDrive\\Documents\\Anaconda\\lib\\site-packages\\pandas\\core\\groupby\\generic.py\u001b[0m in \u001b[0;36m_cython_agg_blocks\u001b[1;34m(self, how, alt, numeric_only, min_count)\u001b[0m\n\u001b[0;32m    141\u001b[0m \u001b[1;33m\u001b[0m\u001b[0m\n\u001b[0;32m    142\u001b[0m         \u001b[1;32mif\u001b[0m \u001b[0mlen\u001b[0m\u001b[1;33m(\u001b[0m\u001b[0mnew_blocks\u001b[0m\u001b[1;33m)\u001b[0m \u001b[1;33m==\u001b[0m \u001b[1;36m0\u001b[0m\u001b[1;33m:\u001b[0m\u001b[1;33m\u001b[0m\u001b[1;33m\u001b[0m\u001b[0m\n\u001b[1;32m--> 143\u001b[1;33m             \u001b[1;32mraise\u001b[0m \u001b[0mDataError\u001b[0m\u001b[1;33m(\u001b[0m\u001b[1;34m'No numeric types to aggregate'\u001b[0m\u001b[1;33m)\u001b[0m\u001b[1;33m\u001b[0m\u001b[1;33m\u001b[0m\u001b[0m\n\u001b[0m\u001b[0;32m    144\u001b[0m \u001b[1;33m\u001b[0m\u001b[0m\n\u001b[0;32m    145\u001b[0m         \u001b[1;31m# reset the locs in the blocks to correspond to our\u001b[0m\u001b[1;33m\u001b[0m\u001b[1;33m\u001b[0m\u001b[1;33m\u001b[0m\u001b[0m\n",
      "\u001b[1;31mDataError\u001b[0m: No numeric types to aggregate"
     ]
    }
   ],
   "source": [
    "school_summary=pd.DataFrame({\"School Type\":[school_type],\n",
    "                                 \"Total Students\":[total_students_per_School],\n",
    "                                 \"Total School Budget\":[budget_per_school],\n",
    "                                  \"Budget per student\":[budget_per_student],\n",
    "                                 \"Average Math Score per School\":[avg_math_scores],\n",
    "                                 \"Average Reading Score per School\":[avg_reading_scores],\n",
    "                                 \"% Passing Math per School\":[perc_passmath],\n",
    "                                 \"% Passing Reading per School\":[perc_passreading],\n",
    "                                 \"Overall Passing rate\":[overall_perc]})\n",
    "per_school_summary = school_summary[[\"School Type\", \"Total School Budget\",\"Budget per student\",\n",
    "                                         \"Average Math Score per School\", \"Average Reading Score per School\", \n",
    "                                         \"% Passing Math per School\", \"% Passing Reading per School\", \n",
    "                                         \"Overall Passing rate\"]]\n",
    "\n",
    "bins = [0, 585, 615, 645, 675]\n",
    "names = [\"<$585\", \"$585-615\", \"$615-645\", \"$645-675\"]\n",
    "\n",
    "\n",
    "per_school_summary[\"Spending Ranges (Per Student)\"] = pd.cut(budget_per_student,bins,labels = names)\n",
    "\n",
    "avg_math_score_spending = round(per_school_summary.groupby(per_school_summary[\"Spending Ranges (Per Student)\"]).mean()[\"Average Math Score per School\"],1)\n",
    "avg_math_score_spending"
   ]
  },
  {
   "cell_type": "code",
   "execution_count": null,
   "metadata": {},
   "outputs": [],
   "source": []
  },
  {
   "cell_type": "code",
   "execution_count": null,
   "metadata": {},
   "outputs": [],
   "source": []
  }
 ],
 "metadata": {
  "kernelspec": {
   "display_name": "Python 3",
   "language": "python",
   "name": "python3"
  },
  "language_info": {
   "codemirror_mode": {
    "name": "ipython",
    "version": 3
   },
   "file_extension": ".py",
   "mimetype": "text/x-python",
   "name": "python",
   "nbconvert_exporter": "python",
   "pygments_lexer": "ipython3",
   "version": "3.7.3"
  }
 },
 "nbformat": 4,
 "nbformat_minor": 2
}
